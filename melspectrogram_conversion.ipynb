{
 "cells": [
  {
   "cell_type": "code",
   "execution_count": 1,
   "metadata": {},
   "outputs": [
    {
     "name": "stdout",
     "output_type": "stream",
     "text": [
      "cmu_us_awb_arctic(modified)   cmu_us_ksp_arctic\n",
      "cmu_us_bdl_arctic\t      cmu_us_ksp_arctic(fucked_up)\n",
      "cmu_us_bdl_arctic(fucked_up)\n",
      "Populating the interactive namespace from numpy and matplotlib\n"
     ]
    }
   ],
   "source": [
    "from os.path import join, expanduser\n",
    "DATA_ROOT = join(expanduser(\"~\"), \"ACCENT_CONVERSION_DATASET\")\n",
    "!ls $DATA_ROOT\n",
    "%pylab inline"
   ]
  },
  {
   "cell_type": "code",
   "execution_count": 3,
   "metadata": {},
   "outputs": [],
   "source": [
    "from keras.models import Sequential\n",
    "from keras.layers import Dropout, Dense, BatchNormalization, Activation\n",
    "from sklearn.model_selection import train_test_split\n",
    "from keras.optimizers import Adam, SGD, RMSprop\n",
    "\n",
    "import numpy as np\n",
    "import matplotlib.pyplot as plt\n",
    "import librosa"
   ]
  },
  {
   "cell_type": "code",
   "execution_count": 3,
   "metadata": {},
   "outputs": [],
   "source": [
    "from nnmnkwii.datasets import PaddedFileSourceDataset\n",
    "from nnmnkwii.datasets.cmu_arctic import CMUArcticWavFileDataSource\n",
    "from nnmnkwii.preprocessing.alignment import DTWAligner\n",
    "from nnmnkwii.preprocessing import trim_zeros_frames, remove_zeros_frames, delta_features\n",
    "from nnmnkwii.util import apply_each2d_trim\n",
    "from nnmnkwii.metrics import melcd\n",
    "from nnmnkwii.baseline.gmm import MLPG\n",
    "\n",
    "from os.path import basename, splitext\n",
    "import sys\n",
    "import time\n",
    "\n",
    "import numpy as np\n",
    "from scipy.io import wavfile\n",
    "from sklearn.mixture import GaussianMixture\n",
    "from sklearn.model_selection import train_test_split\n",
    "import pyworld\n",
    "import pysptk\n",
    "from pysptk.synthesis import MLSADF, Synthesizer\n",
    "import librosa\n",
    "import librosa.display\n",
    "import IPython\n",
    "from IPython.display import Audio"
   ]
  },
  {
   "cell_type": "code",
   "execution_count": 4,
   "metadata": {},
   "outputs": [],
   "source": [
    "fs = 16000\n",
    "fftlen = pyworld.get_cheaptrick_fft_size(fs)\n",
    "alpha = pysptk.util.mcepalpha(fs)\n",
    "order = 24\n",
    "frame_period = 5\n",
    "hop_length = int(fs * (frame_period * 0.001))\n",
    "max_files = 100 # number of utterances to be used.\n",
    "test_size = 0.03\n",
    "use_delta = True\n",
    "\n",
    "if use_delta:\n",
    "    windows = [\n",
    "        (0, 0, np.array([1.0])),\n",
    "        (1, 1, np.array([-0.5, 0.0, 0.5])),\n",
    "        (1, 1, np.array([1.0, -2.0, 1.0])),\n",
    "    ]\n",
    "else:\n",
    "    windows = [\n",
    "        (0, 0, np.array([1.0])),\n",
    "    ]"
   ]
  },
  {
   "cell_type": "code",
   "execution_count": 5,
   "metadata": {},
   "outputs": [],
   "source": [
    "class MyFileDataSource(CMUArcticWavFileDataSource):\n",
    "    def __init__(self, *args, **kwargs):\n",
    "        super(MyFileDataSource, self).__init__(*args, **kwargs)\n",
    "        self.test_paths = None\n",
    "\n",
    "    def collect_files(self):\n",
    "        paths = super(\n",
    "            MyFileDataSource, self).collect_files()\n",
    "        paths_train, paths_test = train_test_split(\n",
    "            paths, test_size=test_size, random_state=1234)\n",
    "\n",
    "        # keep paths for later testing\n",
    "        self.test_paths = paths_test\n",
    "\n",
    "        return paths_train\n",
    "\n",
    "    def collect_features(self, path):\n",
    "        fs, x = wavfile.read(path)\n",
    "        x = x.astype(np.float64)\n",
    "        f0, timeaxis = pyworld.dio(x, fs, frame_period=frame_period)\n",
    "        f0 = pyworld.stonemask(x, f0, timeaxis, fs)\n",
    "        spectrogram = pyworld.cheaptrick(x, f0, timeaxis, fs)\n",
    "        spectrogram = trim_zeros_frames(spectrogram)\n",
    "        return spectrogram"
   ]
  },
  {
   "cell_type": "code",
   "execution_count": 6,
   "metadata": {},
   "outputs": [],
   "source": [
    "clb_source = MyFileDataSource(data_root=DATA_ROOT,\n",
    "                                         speakers=[\"bdl\"], max_files=max_files)\n",
    "slt_source = MyFileDataSource(data_root=DATA_ROOT,\n",
    "                                         speakers=[\"ksp\"], max_files=max_files)"
   ]
  },
  {
   "cell_type": "code",
   "execution_count": 36,
   "metadata": {},
   "outputs": [],
   "source": [
    "import kapre\n",
    "from kapre.time_frequency import Melspectrogram\n",
    "from keras.layers import Bidirectional, PReLU, LSTM, GRU"
   ]
  },
  {
   "cell_type": "code",
   "execution_count": 44,
   "metadata": {},
   "outputs": [],
   "source": [
    "model = Sequential()\n",
    "#model.add(Melspectrogram(sr = 16000, n_mels = 80, fmin = 0, fmax = 8000, power_melgram = 2.0, return_decibel_melgram = True,\n",
    "                        #trainable_fb = False, htk = False, norm = 1, name = 'melgram', input_shape = (1, 16000)))\n",
    "model.add(GRU(80, input_shape = (80, 1000), return_sequences = True))\n",
    "model.add(Dense(128))\n",
    "model.add(PReLU())\n",
    "model.add(Bidirectional(LSTM(100, return_sequences = True)))\n",
    "model.add(Bidirectional(LSTM(100, return_sequences = True)))\n",
    "model.add(Dense(80))"
   ]
  },
  {
   "cell_type": "code",
   "execution_count": 45,
   "metadata": {},
   "outputs": [
    {
     "name": "stdout",
     "output_type": "stream",
     "text": [
      "_________________________________________________________________\n",
      "Layer (type)                 Output Shape              Param #   \n",
      "=================================================================\n",
      "gru_7 (GRU)                  (None, 80, 80)            259440    \n",
      "_________________________________________________________________\n",
      "dense_24 (Dense)             (None, 80, 128)           10368     \n",
      "_________________________________________________________________\n",
      "p_re_lu_18 (PReLU)           (None, 80, 128)           10240     \n",
      "_________________________________________________________________\n",
      "bidirectional_21 (Bidirectio (None, 80, 200)           183200    \n",
      "_________________________________________________________________\n",
      "bidirectional_22 (Bidirectio (None, 80, 200)           240800    \n",
      "_________________________________________________________________\n",
      "dense_25 (Dense)             (None, 80, 80)            16080     \n",
      "=================================================================\n",
      "Total params: 720,128\n",
      "Trainable params: 720,128\n",
      "Non-trainable params: 0\n",
      "_________________________________________________________________\n"
     ]
    }
   ],
   "source": [
    "optimizer = Adam()\n",
    "model.compile(optimizer = optimizer, loss = 'mean_squared_error', metrics = ['accuracy'])\n",
    "model.summary()"
   ]
  },
  {
   "cell_type": "code",
   "execution_count": null,
   "metadata": {},
   "outputs": [],
   "source": []
  }
 ],
 "metadata": {
  "kernelspec": {
   "display_name": "Python 3",
   "language": "python",
   "name": "python3"
  },
  "language_info": {
   "codemirror_mode": {
    "name": "ipython",
    "version": 3
   },
   "file_extension": ".py",
   "mimetype": "text/x-python",
   "name": "python",
   "nbconvert_exporter": "python",
   "pygments_lexer": "ipython3",
   "version": "3.6.8"
  }
 },
 "nbformat": 4,
 "nbformat_minor": 2
}
