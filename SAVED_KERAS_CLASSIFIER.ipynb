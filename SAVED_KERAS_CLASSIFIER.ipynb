{
 "cells": [
  {
   "cell_type": "code",
   "execution_count": 1,
   "metadata": {},
   "outputs": [],
   "source": [
    "import sys\n",
    "sys.path.append('/home/kushal/PycharmProjects/cs224s-accent-conversion/tf')"
   ]
  },
  {
   "cell_type": "code",
   "execution_count": 2,
   "metadata": {},
   "outputs": [
    {
     "name": "stderr",
     "output_type": "stream",
     "text": [
      "Using TensorFlow backend.\n"
     ]
    }
   ],
   "source": [
    "from time import time, gmtime, strftime\n",
    "import numpy as np\n",
    "import random\n",
    "import pandas as pd\n",
    "import scipy.io.wavfile as wav\n",
    "from python_speech_features import mfcc\n",
    "import tensorflow as tf\n",
    "\n",
    "from keras.models import Sequential\n",
    "from keras.layers import Dropout, Dense, BatchNormalization, Activation\n",
    "from keras.optimizers import Adam\n",
    "from utils.pad_sequence import pad_sequence\n",
    "from utils.general_utils import get_minibatches, batch_multiply_by_matrix\n",
    "from utils.fast_dtw import get_dtw_series"
   ]
  },
  {
   "cell_type": "code",
   "execution_count": 3,
   "metadata": {},
   "outputs": [],
   "source": [
    "\n",
    "batch_size = 30\n",
    "n_epochs = 20\n",
    "lr = 1e-4\n",
    "momentum = 0.3\n",
    "\n",
    "max_num_frames = 1220  # This is the maximum length of any warped time series in the dataset\n",
    "\n",
    "num_mfcc_coeffs = 25\n",
    "sample_rate = 16000.0\n",
    "num_filters = 100\n",
    "window_len = 0.005  # 5 ms\n",
    "window_step = 0.005  # 5 ms\n",
    "n_classes = 3\n",
    "\n",
    "num_features = max_num_frames * num_mfcc_coeffs\n",
    "ss_1 = 1000\n",
    "ss_2 = 750\n",
    "ss_3 = 500\n",
    "ss_4 = 250\n",
    "n_classes = 3\n",
    "dr = 0.2  # 0.8"
   ]
  },
  {
   "cell_type": "code",
   "execution_count": 4,
   "metadata": {},
   "outputs": [],
   "source": [
    "def preprocess_data():\n",
    "    \"\"\"Processes the training data and returns MFCC vectors for all of them.\n",
    "    Args:\n",
    "          config: the Config object with various parameters specified\n",
    "     Returns:\n",
    "            train_data:\tA list of tuples, one for each training example: (accent 1 padded MFCC frames, accent 1 mask)\n",
    "            train_labels: A list of tuples, one for each training example: (accent 2 padded MFCC frames, accent 2 mask)\n",
    "        \"\"\"\n",
    "        #<TODO> add functionality to store mfccs rather than having to extract them every single time\n",
    "    inputs = []\n",
    "    labels = []\n",
    "    name_dict = {0: 'awb', 1: 'bdl', 2: 'ksp'}\n",
    "    for j in range(len(name_dict)):\n",
    "        for i in range(51, 594):\n",
    "            if i < 10:\n",
    "                (source_sample_rate, source_wav_data) = wav.read(\n",
    "                    'tf/cmu_us_' + name_dict[j] + '_arctic/wav/arctic_a000' + str(i) + '.wav')\n",
    "            elif 9 < i < 100:\n",
    "                (source_sample_rate, source_wav_data) = wav.read(\n",
    "                    'tf/cmu_us_' + name_dict[j] + '_arctic/wav/arctic_a00' + str(i) + '.wav')\n",
    "            else:\n",
    "                (source_sample_rate, source_wav_data) = wav.read(\n",
    "                    'tf/cmu_us_' + name_dict[j] + '_arctic/wav/arctic_a0' + str(i) + '.wav')\n",
    "            source_mfcc = np.array(mfcc(source_wav_data, samplerate=source_sample_rate, numcep=num_mfcc_coeffs,\n",
    "                        nfilt=num_filters, winlen=window_len, winstep=window_step))\n",
    "            source_mfcc = source_mfcc / np.mean(source_mfcc, axis=0)\n",
    "            source_mfcc_padded, _ = pad_sequence(source_mfcc, max_num_frames)\n",
    "            inputs.append(source_mfcc_padded)\n",
    "            labels.append(j)\n",
    "\n",
    "        for i in range(1, 540):\n",
    "            if i < 10:\n",
    "                (source_sample_rate, source_wav_data) = wav.read(\n",
    "                    'tf/cmu_us_' + name_dict[j] + '_arctic/wav/arctic_b000' + str(i) + '.wav')\n",
    "            elif 9 < i < 100:\n",
    "                (source_sample_rate, source_wav_data) = wav.read(\n",
    "                    'tf/cmu_us_' + name_dict[j] + '_arctic/wav/arctic_b00' + str(i) + '.wav')\n",
    "            else:\n",
    "                (source_sample_rate, source_wav_data) = wav.read(\n",
    "                    'tf/cmu_us_' + name_dict[j] + '_arctic/wav/arctic_b0' + str(i) + '.wav')\n",
    "            source_mfcc = np.array(mfcc(source_wav_data, samplerate=source_sample_rate, numcep=num_mfcc_coeffs,\n",
    "                        nfilt=num_filters, winlen=window_len, winstep=window_step))\n",
    "            source_mfcc = source_mfcc / np.mean(source_mfcc, axis=0)\n",
    "            source_mfcc_padded, _ = pad_sequence(source_mfcc, max_num_frames)\n",
    "            inputs.append(source_mfcc_padded)\n",
    "            labels.append(j)\n",
    "    full = zip(inputs, labels) #only here to help with random shuffling\n",
    "    full = list(full)\n",
    "    from random import shuffle\n",
    "    shuffle(full)\n",
    "    inputs = []\n",
    "    labels = []\n",
    "    for i in range(len(full)):\n",
    "        inputs_, labels_ = full[i]\n",
    "        inputs.append(inputs_)\n",
    "        labels.append(labels_)\n",
    "    return inputs, labels"
   ]
  },
  {
   "cell_type": "code",
   "execution_count": 5,
   "metadata": {},
   "outputs": [
    {
     "name": "stdout",
     "output_type": "stream",
     "text": [
      "Preprocessing data ...\n",
      "Finished preprocessing data\n"
     ]
    }
   ],
   "source": [
    "print(\"Preprocessing data ...\")\n",
    "# <TODO> Make the source and target paths easier to configure\n",
    "inputs, labels = preprocess_data()\n",
    "print(\"Finished preprocessing data\")\n",
    "all_data = len(inputs)\n",
    "split = int(all_data / 10)\n",
    "train_inputs = inputs[split:]\n",
    "train_inputs = np.asarray(train_inputs)\n",
    "test_inputs = inputs[:split]\n",
    "test_inputs = np.asarray(test_inputs)\n",
    "train_labels = labels[split:]\n",
    "train_labels = np.asarray(train_labels)\n",
    "test_labels = labels[:split]\n",
    "test_labels = np.asarray(test_labels)"
   ]
  },
  {
   "cell_type": "code",
   "execution_count": 6,
   "metadata": {},
   "outputs": [],
   "source": [
    "train_inputs = np.reshape(train_inputs,(-1,num_features))\n",
    "test_inputs = np.reshape(test_inputs,(-1,num_features))"
   ]
  },
  {
   "cell_type": "code",
   "execution_count": 7,
   "metadata": {},
   "outputs": [],
   "source": [
    "model = Sequential()\n",
    "\n",
    "model.add(Dense(ss_1,input_shape = (num_features,),kernel_initializer = 'glorot_uniform'))\n",
    "model.add(Activation('relu'))\n",
    "model.add(Dropout(0.2))\n",
    "\n",
    "model.add(Dense(ss_2))\n",
    "model.add(Activation('relu'))\n",
    "model.add(Dropout(0.2))\n",
    "\n",
    "model.add(Dense(ss_3))\n",
    "model.add(Activation('relu'))\n",
    "model.add(Dropout(0.2))\n",
    "\n",
    "model.add(Dense(ss_4))\n",
    "model.add(Activation('relu'))\n",
    "model.add(Dropout(0.2))\n",
    "\n",
    "model.add(Dense(n_classes))\n",
    "model.add(Activation('softmax'))\n",
    "\n"
   ]
  },
  {
   "cell_type": "code",
   "execution_count": 8,
   "metadata": {},
   "outputs": [
    {
     "name": "stdout",
     "output_type": "stream",
     "text": [
      "_________________________________________________________________\n",
      "Layer (type)                 Output Shape              Param #   \n",
      "=================================================================\n",
      "dense_1 (Dense)              (None, 1000)              30501000  \n",
      "_________________________________________________________________\n",
      "activation_1 (Activation)    (None, 1000)              0         \n",
      "_________________________________________________________________\n",
      "dropout_1 (Dropout)          (None, 1000)              0         \n",
      "_________________________________________________________________\n",
      "dense_2 (Dense)              (None, 750)               750750    \n",
      "_________________________________________________________________\n",
      "activation_2 (Activation)    (None, 750)               0         \n",
      "_________________________________________________________________\n",
      "dropout_2 (Dropout)          (None, 750)               0         \n",
      "_________________________________________________________________\n",
      "dense_3 (Dense)              (None, 500)               375500    \n",
      "_________________________________________________________________\n",
      "activation_3 (Activation)    (None, 500)               0         \n",
      "_________________________________________________________________\n",
      "dropout_3 (Dropout)          (None, 500)               0         \n",
      "_________________________________________________________________\n",
      "dense_4 (Dense)              (None, 250)               125250    \n",
      "_________________________________________________________________\n",
      "activation_4 (Activation)    (None, 250)               0         \n",
      "_________________________________________________________________\n",
      "dropout_4 (Dropout)          (None, 250)               0         \n",
      "_________________________________________________________________\n",
      "dense_5 (Dense)              (None, 3)                 753       \n",
      "_________________________________________________________________\n",
      "activation_5 (Activation)    (None, 3)                 0         \n",
      "=================================================================\n",
      "Total params: 31,753,253\n",
      "Trainable params: 31,753,253\n",
      "Non-trainable params: 0\n",
      "_________________________________________________________________\n"
     ]
    }
   ],
   "source": [
    "optimizer = Adam(lr = lr)\n",
    "model.compile(optimizer = optimizer, loss = 'sparse_categorical_crossentropy', metrics = ['accuracy'])\n",
    "model.summary()"
   ]
  },
  {
   "cell_type": "code",
   "execution_count": 9,
   "metadata": {},
   "outputs": [
    {
     "name": "stdout",
     "output_type": "stream",
     "text": [
      "Epoch 1/20\n",
      "2922/2922 [==============================] - 15s 5ms/step - loss: 1.9627 - acc: 0.4962\n",
      "Epoch 2/20\n",
      "2922/2922 [==============================] - 13s 5ms/step - loss: 1.2730 - acc: 0.6253\n",
      "Epoch 3/20\n",
      "2922/2922 [==============================] - 13s 5ms/step - loss: 0.9985 - acc: 0.7033\n",
      "Epoch 4/20\n",
      "2922/2922 [==============================] - 13s 5ms/step - loss: 0.8522 - acc: 0.7399\n",
      "Epoch 5/20\n",
      "2922/2922 [==============================] - 13s 5ms/step - loss: 0.6765 - acc: 0.8111\n",
      "Epoch 6/20\n",
      "2922/2922 [==============================] - 13s 5ms/step - loss: 0.5724 - acc: 0.8546\n",
      "Epoch 7/20\n",
      "2922/2922 [==============================] - 13s 5ms/step - loss: 0.4372 - acc: 0.9001\n",
      "Epoch 8/20\n",
      "2922/2922 [==============================] - 13s 5ms/step - loss: 0.3596 - acc: 0.9278\n",
      "Epoch 9/20\n",
      "2922/2922 [==============================] - 13s 5ms/step - loss: 0.3026 - acc: 0.9391\n",
      "Epoch 10/20\n",
      "2922/2922 [==============================] - 13s 5ms/step - loss: 0.3286 - acc: 0.9466\n",
      "Epoch 11/20\n",
      "2922/2922 [==============================] - 13s 5ms/step - loss: 0.2314 - acc: 0.9709\n",
      "Epoch 12/20\n",
      "2922/2922 [==============================] - 14s 5ms/step - loss: 0.2066 - acc: 0.9706\n",
      "Epoch 13/20\n",
      "2922/2922 [==============================] - 13s 5ms/step - loss: 0.2140 - acc: 0.9733\n",
      "Epoch 14/20\n",
      "2922/2922 [==============================] - 13s 5ms/step - loss: 0.1835 - acc: 0.9754\n",
      "Epoch 15/20\n",
      "2922/2922 [==============================] - 13s 5ms/step - loss: 0.1640 - acc: 0.9802\n",
      "Epoch 16/20\n",
      "2922/2922 [==============================] - 14s 5ms/step - loss: 0.2348 - acc: 0.9716\n",
      "Epoch 17/20\n",
      "2922/2922 [==============================] - 13s 5ms/step - loss: 0.2241 - acc: 0.9719\n",
      "Epoch 18/20\n",
      "2922/2922 [==============================] - 14s 5ms/step - loss: 0.2451 - acc: 0.9617\n",
      "Epoch 19/20\n",
      "2922/2922 [==============================] - 13s 5ms/step - loss: 0.1938 - acc: 0.9702\n",
      "Epoch 20/20\n",
      "2922/2922 [==============================] - 13s 5ms/step - loss: 0.1168 - acc: 0.9856\n"
     ]
    }
   ],
   "source": [
    "history = model.fit(x = train_inputs, y = train_labels, batch_size = batch_size, epochs = n_epochs, verbose = 1)"
   ]
  },
  {
   "cell_type": "code",
   "execution_count": 11,
   "metadata": {},
   "outputs": [
    {
     "data": {
      "image/png": "[encoded data removed]",
      "text/plain": [
       "<Figure size 432x288 with 1 Axes>"
      ]
     },
     "metadata": {
      "needs_background": "light"
     },
     "output_type": "display_data"
    }
   ],
   "source": [
    "import matplotlib.pyplot as plt\n",
    "plt.plot(history.history['acc'])\n",
    "plt.title('Model Acc')\n",
    "plt.ylabel('Acc')\n",
    "plt.xlabel('Epoch')\n",
    "plt.show()"
   ]
  },
  {
   "cell_type": "code",
   "execution_count": 12,
   "metadata": {},
   "outputs": [
    {
     "name": "stdout",
     "output_type": "stream",
     "text": [
      "324/324 [==============================] - 0s 699us/step\n"
     ]
    },
    {
     "data": {
      "text/plain": [
       "[0.9690166644660043, 0.8611111111111112]"
      ]
     },
     "execution_count": 12,
     "metadata": {},
     "output_type": "execute_result"
    }
   ],
   "source": [
    "model.evaluate(x = test_inputs, y = test_labels, verbose = 1)"
   ]
  },
  {
   "cell_type": "code",
   "execution_count": 13,
   "metadata": {},
   "outputs": [],
   "source": [
    "from keras.models import load_model\n",
    "model.save('tf/saved_models/keras_classfier_1.h5') \n",
    "#kmodel = load_model('tf/saved_models/keras_classfier.h5')"
   ]
  },
  {
   "cell_type": "code",
   "execution_count": 14,
   "metadata": {},
   "outputs": [],
   "source": [
    "model.save_weights('tf/saved_models/keras_classfier_1_weights.h5')"
   ]
  },
  {
   "cell_type": "code",
   "execution_count": 15,
   "metadata": {},
   "outputs": [],
   "source": [
    "kmodel = Sequential()\n",
    "\n",
    "kmodel.add(Dense(ss_1,input_shape = (num_features,),kernel_initializer = 'glorot_uniform'))\n",
    "kmodel.add(Activation('relu'))\n",
    "kmodel.add(Dropout(0.2))\n",
    "\n",
    "kmodel.add(Dense(ss_2))\n",
    "kmodel.add(Activation('relu'))\n",
    "kmodel.add(Dropout(0.2))\n",
    "\n",
    "kmodel.add(Dense(ss_3))\n",
    "kmodel.add(Activation('relu'))\n",
    "kmodel.add(Dropout(0.2))\n",
    "\n",
    "kmodel.add(Dense(ss_4))\n",
    "kmodel.add(Activation('relu'))\n",
    "kmodel.add(Dropout(0.2))\n",
    "\n",
    "kmodel.add(Dense(n_classes))\n",
    "kmodel.add(Activation('softmax'))"
   ]
  },
  {
   "cell_type": "code",
   "execution_count": 17,
   "metadata": {},
   "outputs": [],
   "source": [
    "optimizer = Adam(lr = lr)\n",
    "kmodel.load_weights('tf/saved_models/keras_classfier_1_weights.h5')"
   ]
  },
  {
   "cell_type": "code",
   "execution_count": 21,
   "metadata": {},
   "outputs": [],
   "source": [
    "kmodel.compile(optimizer=optimizer,loss='sparse_categorical_crossentropy',metrics=['accuracy'])"
   ]
  },
  {
   "cell_type": "code",
   "execution_count": 22,
   "metadata": {},
   "outputs": [
    {
     "name": "stdout",
     "output_type": "stream",
     "text": [
      "324/324 [==============================] - 0s 557us/step\n"
     ]
    },
    {
     "data": {
      "text/plain": [
       "[0.9690166644660043, 0.8611111111111112]"
      ]
     },
     "execution_count": 22,
     "metadata": {},
     "output_type": "execute_result"
    }
   ],
   "source": [
    "kmodel.evaluate(x = test_inputs, y = test_labels, verbose = 1)"
   ]
  }
 ],
 "metadata": {
  "kernelspec": {
   "display_name": "Python 3",
   "language": "python",
   "name": "python3"
  },
  "language_info": {
   "codemirror_mode": {
    "name": "ipython",
    "version": 3
   },
   "file_extension": ".py",
   "mimetype": "text/x-python",
   "name": "python",
   "nbconvert_exporter": "python",
   "pygments_lexer": "ipython3",
   "version": "3.6.8"
  }
 },
 "nbformat": 4,
 "nbformat_minor": 2
}
