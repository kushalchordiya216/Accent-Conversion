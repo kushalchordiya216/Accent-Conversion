{
 "cells": [
  {
   "cell_type": "code",
   "execution_count": null,
   "metadata": {},
   "outputs": [],
   "source": [
    "import numpy as np\n",
    "import librosa\n",
    "from librosa import display\n",
    "import pandas as pd"
   ]
  },
  {
   "cell_type": "code",
   "execution_count": null,
   "metadata": {},
   "outputs": [],
   "source": [
    "ref_dict ={0:'awb',1:'bdl',2:'ksp'}\n",
    "for j in range(len(ref_dict))\n",
    "    for i in range(1,541):\n",
    "        if i < 10:\n",
    "            y, sr = librosa.core.load('ACCENT_CONVERSION_DATASET/cmu_us_'+ref_dict[j]+'_arctic/wav/arctic_b000' + str(i)+'.wav', sr=16000)\n",
    "        elif 9<i<100:\n",
    "            y, sr = librosa.core.load('ACCENT_CONVERSION_DATASET/cmu_us_'+ref_dict[j]+'_arctic/wav/arctic_b00' + str(i)+'.wav', sr=16000)\n",
    "        else:\n",
    "            y, sr = librosa.core.load('ACCENT_CONVERSION_DATASET/cmu_us_'+ref_dict[j]+'_arctic/wav/arctic_b0'+ str(i)+'.wav', sr=16000)\n",
    "        D = np.abs(librosa.core.stft(y, win_length=int(0.005*sr), n_fft=512))**2\n",
    "        S = librosa.feature.melspectrogram(S=D, y=y, power=2.0, n_mels=100, fmax=sr/2)\n",
    "        feats = librosa.feature.mfcc(S=librosa.power_to_db(S), n_mfcc=25, sr=sr, y=y)\n",
    "        if feats.shape[1]<1120:\n",
    "            feats = np.pad(feats,((0,0),(0,1120-feats.shape[1]),'constant',constant_values=(0))) #zero padding \n",
    "        feats = feats[:, :1120]\n",
    "        pd.DataFrame(feats).to_csv('cmu_us_'+ref_dict[j]+'_arctic/wav/mfcc/arctic_b00' + str(i)+'.csv', header=None, index=None)\n",
    "        pd.DataFrame(S).to_csv('cmu_us_'+ref_dict[j]+'_arctic/wav/mels/arctic_b00' + str(i) + '.csv', header=None, index=None)\n"
   ]
  },
  {
   "cell_type": "markdown",
   "metadata": {},
   "source": [
    "# Use this code to extract features from audio files directly. Be careful to adjust path to the audio files and their names properly"
   ]
  },
  {
   "cell_type": "code",
   "execution_count": null,
   "metadata": {},
   "outputs": [],
   "source": []
  }
 ],
 "metadata": {
  "kernelspec": {
   "display_name": "Python 3",
   "language": "python",
   "name": "python3"
  },
  "language_info": {
   "codemirror_mode": {
    "name": "ipython",
    "version": 3
   },
   "file_extension": ".py",
   "mimetype": "text/x-python",
   "name": "python",
   "nbconvert_exporter": "python",
   "pygments_lexer": "ipython3",
   "version": "3.6.8"
  }
 },
 "nbformat": 4,
 "nbformat_minor": 2
}
