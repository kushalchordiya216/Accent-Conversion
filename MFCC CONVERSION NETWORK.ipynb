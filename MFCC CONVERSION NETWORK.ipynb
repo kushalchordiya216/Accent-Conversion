{
 "cells": [
  {
   "cell_type": "code",
   "execution_count": null,
   "metadata": {},
   "outputs": [],
   "source": [
    "import tensorflow as tf\n",
    "import keras\n",
    "import fastdtw\n",
    "import numpy as np\n",
    "import matplotlib.pyplot as plt\n",
    "import librosa\n",
    "from librosa import display\n",
    "import pandas as pd\n",
    "import django"
   ]
  },
  {
   "cell_type": "code",
   "execution_count": null,
   "metadata": {},
   "outputs": [],
   "source": [
    "for i in range(51,541):\n",
    "    if(i<100):\n",
    "        y,sr = librosa.core.load('ACCENT_CONVERSION_DATASET/cmu_us_awb_arctic/wav/arctic_a00' +str(i)+'.wav',sr=16000)\n",
    "    else:\n",
    "        y,sr = librosa.core.load('ACCENT_CONVERSION_DATASET/cmu_us_awb_arctic/wav/arctic_a0' +str(i)+'.wav',sr=16000)\n",
    "    D = np.abs(librosa.core.stft(y,win_length=int(0.005*sr),n_fft=512))**2\n",
    "    S = librosa.feature.melspectrogram(S=D,y=y,power=2.0)\n",
    "    feats = librosa.feature.mfcc(S=librosa.power_to_db(S),n_mfcc=25,sr=sr,y=y)\n",
    "    pd.DataFrame(feats).to_csv('cmu_us_awb_arctic/wav/arctic_a00' +str(i)+'.csv',header=None,index=None)"
   ]
  },
  {
   "cell_type": "code",
   "execution_count": null,
   "metadata": {},
   "outputs": [],
   "source": [
    "from keras.models import Sequential\n",
    "from keras.layers import Dropout, Dense\n",
    "from sklearn.model_selection import train_test_split"
   ]
  },
  {
   "cell_type": "code",
   "execution_count": null,
   "metadata": {},
   "outputs": [],
   "source": [
    "model = Sequential()\n",
    "model.add(Dense(100),input_shape=(25,None),activation = 'tanh',use_bias=False)\n",
    "model.add(Dense(100),activation = 'tanh',use_bias=False)\n",
    "model.add(Dense(25),activation = 'tanh',use_bias=False)\n",
    "\n",
    "model.compile(loss='mean_sqaured_error',optimizers='Adam',metrics=['accuracy'])"
   ]
  },
  {
   "cell_type": "code",
   "execution_count": null,
   "metadata": {},
   "outputs": [],
   "source": [
    "X_train = "
   ]
  }
 ],
 "metadata": {
  "kernelspec": {
   "display_name": "Python 3",
   "language": "python",
   "name": "python3"
  },
  "language_info": {
   "codemirror_mode": {
    "name": "ipython",
    "version": 3
   },
   "file_extension": ".py",
   "mimetype": "text/x-python",
   "name": "python",
   "nbconvert_exporter": "python",
   "pygments_lexer": "ipython3",
   "version": "3.6.8"
  }
 },
 "nbformat": 4,
 "nbformat_minor": 2
}
