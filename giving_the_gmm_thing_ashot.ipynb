{
 "cells": [
  {
   "cell_type": "code",
   "execution_count": null,
   "metadata": {},
   "outputs": [],
   "source": [
    "from os.path import join, expanduser\n",
    "DATA_ROOT = join(expanduser(\"~\"), \"ACCENT_CONVERSION_DATASET\")\n",
    "!ls $DATA_ROOT"
   ]
  },
  {
   "cell_type": "code",
   "execution_count": null,
   "metadata": {},
   "outputs": [],
   "source": [
    "%pylab inline\n",
    "rcParams[\"figure.figsize\"] = (16,5)\n",
    "\n",
    "from nnmnkwii.datasets import PaddedFileSourceDataset\n",
    "from nnmnkwii.datasets.cmu_arctic import CMUArcticWavFileDataSource\n",
    "from nnmnkwii.preprocessing.alignment import DTWAligner\n",
    "from nnmnkwii.preprocessing import trim_zeros_frames, remove_zeros_frames, delta_features\n",
    "from nnmnkwii.util import apply_each2d_trim\n",
    "from nnmnkwii.metrics import melcd\n",
    "from nnmnkwii.baseline.gmm import MLPG\n",
    "\n",
    "from os.path import basename, splitext\n",
    "import sys\n",
    "import time\n",
    "\n",
    "import numpy as np\n",
    "from scipy.io import wavfile\n",
    "from sklearn.mixture import GaussianMixture\n",
    "from sklearn.model_selection import train_test_split\n",
    "import pyworld\n",
    "import pysptk\n",
    "from pysptk.synthesis import MLSADF, Synthesizer\n",
    "import librosa\n",
    "import librosa.display\n",
    "import IPython\n",
    "from IPython.display import Audio"
   ]
  },
  {
   "cell_type": "code",
   "execution_count": null,
   "metadata": {},
   "outputs": [],
   "source": [
    "fs = 16000\n",
    "fftlen = pyworld.get_cheaptrick_fft_size(fs)\n",
    "alpha = pysptk.util.mcepalpha(fs)\n",
    "order = 24\n",
    "frame_period = 5\n",
    "hop_length = int(fs * (frame_period * 0.001))\n",
    "max_files = 100 # number of utterances to be used.\n",
    "test_size = 0.03\n",
    "use_delta = True\n",
    "\n",
    "if use_delta:\n",
    "    windows = [\n",
    "        (0, 0, np.array([1.0])),\n",
    "        (1, 1, np.array([-0.5, 0.0, 0.5])),\n",
    "        (1, 1, np.array([1.0, -2.0, 1.0])),\n",
    "    ]\n",
    "else:\n",
    "    windows = [\n",
    "        (0, 0, np.array([1.0])),\n",
    "    ]"
   ]
  },
  {
   "cell_type": "code",
   "execution_count": null,
   "metadata": {},
   "outputs": [],
   "source": [
    "class MyFileDataSource(CMUArcticWavFileDataSource):\n",
    "    def __init__(self, *args, **kwargs):\n",
    "        super(MyFileDataSource, self).__init__(*args, **kwargs)\n",
    "        self.test_paths = None\n",
    "\n",
    "    def collect_files(self):\n",
    "        paths = super(\n",
    "            MyFileDataSource, self).collect_files()\n",
    "        paths_train, paths_test = train_test_split(\n",
    "            paths, test_size=test_size, random_state=1234)\n",
    "\n",
    "        # keep paths for later testing\n",
    "        self.test_paths = paths_test\n",
    "\n",
    "        return paths_train\n",
    "\n",
    "    def collect_features(self, path):\n",
    "        fs, x = wavfile.read(path)\n",
    "        x = x.astype(np.float64)\n",
    "        f0, timeaxis = pyworld.dio(x, fs, frame_period=frame_period)\n",
    "        f0 = pyworld.stonemask(x, f0, timeaxis, fs)\n",
    "        spectrogram = pyworld.cheaptrick(x, f0, timeaxis, fs)\n",
    "        spectrogram = trim_zeros_frames(spectrogram)\n",
    "        mc = pysptk.sp2mc(spectrogram, order=order, alpha=alpha)\n",
    "        return mc"
   ]
  },
  {
   "cell_type": "code",
   "execution_count": null,
   "metadata": {},
   "outputs": [],
   "source": [
    "clb_source = MyFileDataSource(data_root=DATA_ROOT,\n",
    "                                         speakers=[\"bdl\"], max_files=max_files)\n",
    "slt_source = MyFileDataSource(data_root=DATA_ROOT,\n",
    "                                         speakers=[\"ksp\"], max_files=max_files)"
   ]
  },
  {
   "cell_type": "code",
   "execution_count": null,
   "metadata": {},
   "outputs": [],
   "source": [
    "X = PaddedFileSourceDataset(clb_source, 1200).asarray()\n",
    "Y = PaddedFileSourceDataset(slt_source, 1200).asarray()\n",
    "print(X.shape)\n",
    "print(Y.shape)"
   ]
  },
  {
   "cell_type": "code",
   "execution_count": null,
   "metadata": {},
   "outputs": [],
   "source": [
    "# Plotting util\n",
    "def plot_parallel(x,y):\n",
    "    figure(figsize=(16,7))\n",
    "    subplot(2,1,1)\n",
    "    librosa.display.specshow(trim_zeros_frames(x).T, sr=fs, hop_length=hop_length, x_axis=\"time\")\n",
    "    colorbar()\n",
    "    subplot(2,1,2)\n",
    "    librosa.display.specshow(trim_zeros_frames(y).T, sr=fs, hop_length=hop_length, x_axis=\"time\")\n",
    "    colorbar()"
   ]
  },
  {
   "cell_type": "code",
   "execution_count": null,
   "metadata": {},
   "outputs": [],
   "source": [
    "idx = 22 # any \n",
    "plot_parallel(X[idx],Y[idx])"
   ]
  },
  {
   "cell_type": "code",
   "execution_count": null,
   "metadata": {},
   "outputs": [],
   "source": [
    "# Alignment\n",
    "X_aligned, Y_aligned = DTWAligner(verbose=0, dist=melcd).transform((X, Y))"
   ]
  },
  {
   "cell_type": "code",
   "execution_count": null,
   "metadata": {},
   "outputs": [],
   "source": [
    "plot_parallel(X_aligned[idx],Y_aligned[idx])"
   ]
  },
  {
   "cell_type": "code",
   "execution_count": null,
   "metadata": {},
   "outputs": [],
   "source": [
    "# Drop 1st (power) dimension\n",
    "X_aligned, Y_aligned = X_aligned[:, :, 1:], Y_aligned[:, :, 1:]"
   ]
  },
  {
   "cell_type": "code",
   "execution_count": null,
   "metadata": {},
   "outputs": [],
   "source": [
    "static_dim = X_aligned.shape[-1]\n",
    "if use_delta:\n",
    "    X_aligned = apply_each2d_trim(delta_features, X_aligned, windows)\n",
    "    Y_aligned = apply_each2d_trim(delta_features, Y_aligned, windows)"
   ]
  },
  {
   "cell_type": "code",
   "execution_count": null,
   "metadata": {},
   "outputs": [],
   "source": [
    "plot_parallel(X_aligned[idx],Y_aligned[idx])"
   ]
  },
  {
   "cell_type": "code",
   "execution_count": null,
   "metadata": {},
   "outputs": [],
   "source": [
    "XY = np.concatenate((X_aligned, Y_aligned), axis=-1).reshape(-1, X_aligned.shape[-1]*2)\n",
    "print(XY.shape)"
   ]
  },
  {
   "cell_type": "code",
   "execution_count": null,
   "metadata": {},
   "outputs": [],
   "source": [
    "gmm = GaussianMixture(\n",
    "    n_components=64, covariance_type=\"full\", max_iter=100, verbose=1)\n",
    "\n",
    "%time gmm.fit(XY)"
   ]
  },
  {
   "cell_type": "code",
   "execution_count": null,
   "metadata": {},
   "outputs": [],
   "source": [
    "for k in range(3):\n",
    "    plot(gmm.means_[k], linewidth=1.5, label=\"Mean of mixture {}\".format(k+1))\n",
    "legend(prop={\"size\": 16})"
   ]
  },
  {
   "cell_type": "code",
   "execution_count": null,
   "metadata": {},
   "outputs": [],
   "source": [
    "imshow(gmm.covariances_[0], origin=\"bottom left\")\n",
    "colorbar()"
   ]
  },
  {
   "cell_type": "code",
   "execution_count": null,
   "metadata": {},
   "outputs": [],
   "source": [
    "for k in range(3):\n",
    "    plot(np.diag(gmm.covariances_[k]), linewidth=1.5, \n",
    "         label=\"Diagonal part of covariance matrix, mixture {}\".format(k))\n",
    "legend(prop={\"size\": 16})"
   ]
  },
  {
   "cell_type": "code",
   "execution_count": null,
   "metadata": {},
   "outputs": [],
   "source": [
    "def test_one_utt(src_path, tgt_path, disable_mlpg=False, diffvc=True):\n",
    "    # GMM-based parameter generation is provided by the library in `baseline` module\n",
    "    if disable_mlpg:\n",
    "        # Force disable MLPG\n",
    "        paramgen = MLPG(gmm, windows=[(0,0, np.array([1.0]))], diff=diffvc)\n",
    "    else:\n",
    "        paramgen = MLPG(gmm, windows=windows, diff=diffvc)\n",
    "\n",
    "    fs, x = wavfile.read(src_path)\n",
    "    x = x.astype(np.float64)\n",
    "    f0, timeaxis = pyworld.dio(x, fs, frame_period=frame_period)\n",
    "    f0 = pyworld.stonemask(x, f0, timeaxis, fs)\n",
    "    spectrogram = pyworld.cheaptrick(x, f0, timeaxis, fs)\n",
    "    aperiodicity = pyworld.d4c(x, f0, timeaxis, fs)\n",
    "\n",
    "    mc = pysptk.sp2mc(spectrogram, order=order, alpha=alpha)\n",
    "    c0, mc = mc[:, 0], mc[:, 1:]\n",
    "    if use_delta:\n",
    "        mc = delta_features(mc, windows)\n",
    "    mc = paramgen.transform(mc)\n",
    "    if disable_mlpg and mc.shape[-1] != static_dim:\n",
    "        mc = mc[:,:static_dim]\n",
    "    assert mc.shape[-1] == static_dim\n",
    "    mc = np.hstack((c0[:, None], mc))\n",
    "    if diffvc:\n",
    "        mc[:, 0] = 0 # remove power coefficients\n",
    "        engine = Synthesizer(MLSADF(order=order, alpha=alpha), hopsize=hop_length)\n",
    "        b = pysptk.mc2b(mc.astype(np.float64), alpha=alpha)\n",
    "        waveform = engine.synthesis(x, b)\n",
    "    else:\n",
    "        spectrogram = pysptk.mc2sp(\n",
    "            mc.astype(np.float64), alpha=alpha, fftlen=fftlen)\n",
    "        waveform = pyworld.synthesize(\n",
    "            f0, spectrogram, aperiodicity, fs, frame_period)\n",
    "        \n",
    "    return waveform"
   ]
  },
  {
   "cell_type": "code",
   "execution_count": null,
   "metadata": {},
   "outputs": [],
   "source": [
    "for i, (src_path, tgt_path) in enumerate(zip(clb_source.test_paths, slt_source.test_paths)):\n",
    "    print(\"{}-th sample\".format(i+1))\n",
    "    wo_MLPG = test_one_utt(src_path, tgt_path, disable_mlpg=True)\n",
    "    w_MLPG = test_one_utt(src_path, tgt_path, disable_mlpg=False)\n",
    "    _, src = wavfile.read(src_path)\n",
    "    _, tgt = wavfile.read(tgt_path)\n",
    "    \n",
    "    print(\"Source:\", basename(src_path))\n",
    "    IPython.display.display(Audio(src, rate=fs))\n",
    "    print(\"Target:\", basename(tgt_path))\n",
    "    IPython.display.display(Audio(tgt, rate=fs))\n",
    "    print(\"w/o MLPG\")\n",
    "    IPython.display.display(Audio(wo_MLPG, rate=fs))\n",
    "    print(\"w/ MLPG\")\n",
    "    IPython.display.display(Audio(w_MLPG, rate=fs))"
   ]
  },
  {
   "cell_type": "code",
   "execution_count": null,
   "metadata": {},
   "outputs": [],
   "source": [
    "def vis_difference(x, y, which_dims=[0,2,3,6,8], T_max=None):\n",
    "    static_paramgen = MLPG(gmm, windows=[(0,0, np.array([1.0]))], diff=False)\n",
    "    paramgen = MLPG(gmm, windows=windows, diff=False)\n",
    "\n",
    "    x = trim_zeros_frames(x)\n",
    "    y = trim_zeros_frames(y)[:,:static_dim]\n",
    "    y_hat1 = static_paramgen.transform(x)[:,:static_dim]\n",
    "    y_hat2 = paramgen.transform(x)\n",
    "\n",
    "    if T_max is not None and len(y) > T_max:\n",
    "        y,y_hat1,y_hat2 = y[:T_max],y_hat1[:T_max],y_hat2[:T_max]\n",
    "        \n",
    "    figure(figsize=(16,4*len(which_dims)))\n",
    "    for idx, which_dim in enumerate(which_dims):\n",
    "        subplot(len(which_dims), 1, idx+1)\n",
    "        plot(y[:,which_dim], \"--\", linewidth=1, label=\"Target\")\n",
    "        plot(y_hat1[:,which_dim], \"-\", linewidth=2, label=\"w/o MLPG\")\n",
    "        plot(y_hat2[:,which_dim], \"-\", linewidth=3, label=\"w/ MLPG\")\n",
    "        title(\"{}-th coef\".format(which_dim+1), fontsize=16)\n",
    "        legend(prop={\"size\": 16}, loc=\"upper right\")"
   ]
  },
  {
   "cell_type": "code",
   "execution_count": null,
   "metadata": {},
   "outputs": [],
   "source": [
    "idx = 0\n",
    "which_dims = np.arange(0, static_dim, step=2)\n",
    "vis_difference(X_aligned[idx], Y_aligned[idx], T_max=300, which_dims=which_dims)"
   ]
  }
 ],
 "metadata": {
  "kernelspec": {
   "display_name": "Python 3",
   "language": "python",
   "name": "python3"
  },
  "language_info": {
   "codemirror_mode": {
    "name": "ipython",
    "version": 3
   },
   "file_extension": ".py",
   "mimetype": "text/x-python",
   "name": "python",
   "nbconvert_exporter": "python",
   "pygments_lexer": "ipython3",
   "version": "3.6.8"
  }
 },
 "nbformat": 4,
 "nbformat_minor": 2
}
