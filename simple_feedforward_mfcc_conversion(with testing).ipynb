{
 "cells": [
  {
   "cell_type": "code",
   "execution_count": null,
   "metadata": {},
   "outputs": [],
   "source": [
    "from time import time, gmtime, strftime\n",
    "import numpy as np\n",
    "import os\n",
    "import random\n",
    "\n",
    "import scipy.io.wavfile as wav\n",
    "from python_speech_features import mfcc\n",
    "\n",
    "import tensorflow as tf\n",
    "import keras\n",
    "\n",
    "\n",
    "from cs224s_accent_conversion.tf.utils.general_utils import get_minibatches, batch_multiply_by_matrix\n",
    "from cs224s_accent_conversion.tf.utils.fast_dtw import get_dtw_series \n",
    "from cs224s_accent_conversion.tf.utils.pad_sequence import pad_sequence\n",
    "\n",
    "from keras.models import Sequential\n",
    "from keras.layers import Dropout, Dense, BatchNormalization, Activation\n",
    "from sklearn.model_selection import train_test_split\n",
    "from keras.optimizers import Adam, SGD, RMSprop"
   ]
  },
  {
   "cell_type": "code",
   "execution_count": null,
   "metadata": {},
   "outputs": [],
   "source": [
    "def preprocess_data(num_mfcc_coeffs, max_num_frames):\n",
    "    \n",
    "    inputs = [] \n",
    "    labels = [] \n",
    "    input_masks = []\n",
    "    label_masks = []\n",
    "    \n",
    "    SOURCE_DIR = 'ACCENT_CONVERSION_DATASET/us-english-male-bdl/wav/'\n",
    "    TARGET_DIR = 'ACCENT_CONVERSION_DATASET/indian-english-male-ksp/wav/'\n",
    "    for source_fname, target_fname in zip(os.listdir(SOURCE_DIR), os.listdir(TARGET_DIR)):\n",
    "        (source_sample_rate, source_wav_data) = wav.read(SOURCE_DIR + source_fname) \n",
    "        (target_sample_rate, target_wav_data) = wav.read(TARGET_DIR + target_fname)\n",
    "\n",
    "        source_mfcc_features = np.array(mfcc(source_wav_data, samplerate=source_sample_rate, numcep=num_mfcc_coeffs))\n",
    "        target_mfcc_features = np.array(mfcc(target_wav_data, samplerate=target_sample_rate, numcep=num_mfcc_coeffs))\n",
    "\n",
    "        # Aligns the MFCC features matrices using FastDTW.\n",
    "        source_mfcc_features, target_mfcc_features = get_dtw_series(source_mfcc_features, target_mfcc_features)\n",
    "\n",
    "        # Pads the MFCC feature matrices (rows) to length config.max_num_frames\n",
    "        source_padded_frames, source_mask = pad_sequence(source_mfcc_features, max_num_frames)\n",
    "        target_padded_frames, target_mask = pad_sequence(target_mfcc_features, max_num_frames)\n",
    "\n",
    "        inputs.append(source_padded_frames) \n",
    "        input_masks.append(source_mask)\n",
    "        labels.append(target_padded_frames) \n",
    "        label_masks.append(target_mask) \n",
    "\n",
    "    randomized_indices = list(range(0, len(inputs))) \n",
    "    random.shuffle(randomized_indices)\n",
    "    inputs = [inputs[i] for i in randomized_indices]\n",
    "    input_masks = [input_masks[i] for i in randomized_indices]\n",
    "    labels = [labels[i] for i in randomized_indices]\n",
    "    label_masks = [label_masks[i] for i in randomized_indices] \n",
    "\n",
    "    return inputs, labels"
   ]
  },
  {
   "cell_type": "code",
   "execution_count": null,
   "metadata": {},
   "outputs": [],
   "source": [
    "batch_size = 32 \n",
    "n_epochs = 50\n",
    "lr = 1e-3\n",
    "max_num_frames = 1220 \n",
    "num_mfcc_coeffs = 25\n",
    "sample_rate = 16000.0\n",
    "num_features = max_num_frames * num_mfcc_coeffs\n",
    "\n",
    "state_size_1 = 25\n",
    "state_size_2 = 50\n",
    "state_size_3 = 50\n",
    "state_size_4 = 25"
   ]
  },
  {
   "cell_type": "code",
   "execution_count": null,
   "metadata": {},
   "outputs": [],
   "source": [
    "inputs, labels = preprocess_data(num_mfcc_coeffs, max_num_frames)"
   ]
  },
  {
   "cell_type": "code",
   "execution_count": null,
   "metadata": {},
   "outputs": [],
   "source": [
    "model = Sequential()\n",
    "\n",
    "model.add(Dense(state_size_1, input_shape = (25,))) \n",
    "model.add(Activation('relu'))\n",
    "\n",
    "model.add(Dense(state_size_2))\n",
    "model.add(Activation('relu'))\n",
    "\n",
    "model.add(Dense(state_size_3))\n",
    "model.add(Activation('relu'))\n",
    "\n",
    "model.add(Dense(state_size_4))\n",
    "model.add(Activation('relu'))\n",
    "          \n",
    "model.add(Dense(25))"
   ]
  },
  {
   "cell_type": "code",
   "execution_count": null,
   "metadata": {},
   "outputs": [],
   "source": [
    "optimizer = Adam(lr = lr)\n",
    "model.compile(optimizer = optimizer, loss = 'mean_squared_error', metrics = ['accuracy'])\n",
    "model.summary()"
   ]
  },
  {
   "cell_type": "code",
   "execution_count": null,
   "metadata": {},
   "outputs": [],
   "source": [
    "np_array = np.array(inputs)\n",
    "m = np_array.shape[2]\n",
    "print(np_array.shape)\n",
    "inputs = np.reshape(inputs, [-1, 25])\n",
    "print(inputs.shape)\n",
    "\n",
    "np.array1 = np.array(labels)\n",
    "print(np_array.shape)\n",
    "labels = np.reshape(inputs, [-1, 25])\n",
    "print(labels.shape)"
   ]
  },
  {
   "cell_type": "code",
   "execution_count": null,
   "metadata": {},
   "outputs": [],
   "source": [
    "history = model.fit(x = inputs, y = labels, batch_size = batch_size*1220, epochs = n_epochs, verbose = 1, validation_split = 0.05)"
   ]
  },
  {
   "cell_type": "code",
   "execution_count": null,
   "metadata": {},
   "outputs": [],
   "source": [
    "import matplotlib.pyplot as plt\n",
    "plt.plot(history.history['acc'])\n",
    "plt.title('Model Acc')\n",
    "plt.ylabel('Acc')\n",
    "plt.xlabel('Epoch')\n",
    "plt.show()"
   ]
  },
  {
   "cell_type": "code",
   "execution_count": null,
   "metadata": {},
   "outputs": [],
   "source": [
    "# Plot the loss and accuracy curves for training and validation \n",
    "fig, ax = plt.subplots(2,1)\n",
    "ax[0].plot(history.history['loss'], color='b', label=\"Training loss\")\n",
    "ax[0].plot(history.history['val_loss'], color='r', label=\"validation loss\",axes =ax[0])\n",
    "legend = ax[0].legend(loc='best', shadow=True)\n",
    "\n",
    "ax[1].plot(history.history['acc'], color='b', label=\"Training accuracy\")\n",
    "ax[1].plot(history.history['val_acc'], color='r',label=\"Validation accuracy\")\n",
    "legend = ax[1].legend(loc='best', shadow=True)"
   ]
  },
  {
   "cell_type": "code",
   "execution_count": null,
   "metadata": {},
   "outputs": [],
   "source": [
    "from librosa import display\n",
    "def plot(x, p):\n",
    "    plt.figure(figsize = (10, 4))\n",
    "    display.specshow(x, x_axis = 'time')\n",
    "    plt.colorbar()\n",
    "    plt.title(str(i+1) + 'MFCC' + p)"
   ]
  },
  {
   "cell_type": "code",
   "execution_count": null,
   "metadata": {},
   "outputs": [],
   "source": [
    "for i in range(30):\n",
    "    a = predictions[i*1220:(i+1)*1220, :]\n",
    "    a_y = test_labels[i*1220:(i+1)*1220, :]\n",
    "    plot(a_y.T, \"(target)\")\n",
    "    plot(a.T, \"(predicted)\")"
   ]
  },
  {
   "cell_type": "code",
   "execution_count": 3,
   "metadata": {},
   "outputs": [],
   "source": [
    "class myclass ():\n",
    "    def func(self,config):\n",
    "        print(config.var)\n",
    "class Config():\n",
    "    var = 0\n"
   ]
  }
 ],
 "metadata": {
  "kernelspec": {
   "display_name": "Python 3",
   "language": "python",
   "name": "python3"
  },
  "language_info": {
   "codemirror_mode": {
    "name": "ipython",
    "version": 3
   },
   "file_extension": ".py",
   "mimetype": "text/x-python",
   "name": "python",
   "nbconvert_exporter": "python",
   "pygments_lexer": "ipython3",
   "version": "3.6.8"
  }
 },
 "nbformat": 4,
 "nbformat_minor": 2
}
